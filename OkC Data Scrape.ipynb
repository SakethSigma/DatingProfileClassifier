{
 "cells": [
  {
   "cell_type": "code",
   "execution_count": null,
   "id": "0bea8976",
   "metadata": {},
   "outputs": [],
   "source": [
    "#importing required packages\n",
    "from selenium import webdriver\n",
    "from selenium.webdriver.common.by import By\n",
    "from selenium.webdriver.support.ui import WebDriverWait\n",
    "from selenium.webdriver.support import expected_conditions as EC\n",
    "from selenium.webdriver.common.keys import Keys\n",
    "from selenium.webdriver.common.action_chains import ActionChains\n",
    "import random\n",
    "import time\n",
    "from time import sleep\n",
    "import csv"
   ]
  },
  {
   "cell_type": "code",
   "execution_count": null,
   "id": "7cfdeafc",
   "metadata": {},
   "outputs": [],
   "source": [
    "def waitTime(min,max):\n",
    "\t'''\n",
    "\tWaits for random seconds between min and max.\n",
    "\t'''\n",
    "\tsecs = random.uniform(min,max)\n",
    "\tsleep(secs)\n",
    "\t"
   ]
  },
  {
   "cell_type": "code",
   "execution_count": null,
   "id": "b18975e9",
   "metadata": {},
   "outputs": [],
   "source": [
    "#Path of chromedriver\n",
    "path = 'C:\\\\Program Files (x86)\\\\chromedriver.exe'\n",
    "driver = webdriver.Chrome(path)\n",
    "#driver = webdriver.Chrome()\n",
    "driver.get('https://www.okcupid.com/discover')\n",
    "#Login manually and verify using otp"
   ]
  },
  {
   "cell_type": "code",
   "execution_count": null,
   "id": "6fca35f3",
   "metadata": {},
   "outputs": [],
   "source": [
    "#Defines Empty List array\n",
    "profiledata= [];"
   ]
  },
  {
   "cell_type": "code",
   "execution_count": null,
   "id": "4178c93d",
   "metadata": {},
   "outputs": [],
   "source": [
    "def scrolldown():\n",
    "    SCROLL_PAUSE_TIME = 1.33\n",
    "\n",
    "    # Get scroll height\n",
    "    last_height = driver.execute_script(\"return document.body.scrollHeight\")\n",
    "\n",
    "    while True:\n",
    "        # Scroll down to bottom\n",
    "        driver.execute_script(\"window.scrollTo(0, document.body.scrollHeight);\")\n",
    "\n",
    "        # Wait to load page\n",
    "        time.sleep(SCROLL_PAUSE_TIME)\n",
    "\n",
    "        # Calculate new scroll height and compare with last scroll height\n",
    "        new_height = driver.execute_script(\"return document.body.scrollHeight\")\n",
    "        if new_height == last_height-250:\n",
    "            break\n",
    "        last_height = new_height+250"
   ]
  },
  {
   "cell_type": "code",
   "execution_count": null,
   "id": "1f5180a0",
   "metadata": {},
   "outputs": [],
   "source": [
    "def getdata():\n",
    "    for i in range(80):\n",
    "        \n",
    "        print(f'Accessing profile #{i+1}')\n",
    "\n",
    "        waitTime(5,7)\n",
    "        pass_button = driver.find_elements(By.CLASS_NAME,'dt-action-buttons-button')[0]\n",
    "        print(pass_button.text)\n",
    "        like_button = driver.find_elements(By.CLASS_NAME,'dt-action-buttons-button')[1]\n",
    "        print(like_button.text)\n",
    "        superlike_button = driver.find_element(By.CLASS_NAME,'superlike-button-scene.superlike-button-scene--pill')\n",
    "        \n",
    "        top = driver.find_element(By.CLASS_NAME,'desktop-dt-top')\n",
    "        num_images = len(top.find_elements(By.CLASS_NAME,'preloaded-image'))\n",
    "        \n",
    "        \n",
    "        try:\n",
    "            bio = driver.find_element(By.CLASS_NAME,'dt-essay-text').text\n",
    "        except:\n",
    "            bio = ''\n",
    "            print('Error during Bio')\n",
    "\n",
    "        try:\n",
    "            ageLoc = driver.find_element(By.CLASS_NAME,'card-content-header__location').text\n",
    "        except:\n",
    "            ageLoc = ''\n",
    "            print('Error during AgeLoc')\n",
    "        try:\n",
    "            \n",
    "            scrolldown()\n",
    "            questions = driver.find_elements(By.CLASS_NAME,'profile-questions-filter-count')\n",
    "        except:\n",
    "            questions = ''\n",
    "            print('Error during Questions')\n",
    "        name = driver.find_element(By.CLASS_NAME,'card-content-header__text').text\n",
    "        ageLoc = driver.find_element(By.CLASS_NAME,'card-content-header__location').text\n",
    "        questions = driver.find_elements(By.CLASS_NAME,'profile-questions-filter-count')\n",
    "        #(like,disagree,findout are elements of questions) \n",
    "\n",
    "        #Appends all data to the profiledata list\n",
    "        profiledata.append([ageLoc,bio,questions[0].text,questions[1].text,questions[2].text,num_images])\n",
    "        print([ageLoc,bio,questions[0].text,questions[1].text,questions[2].text,num_images]);\n",
    "        \n",
    "        waitTime(0.5,1.5)\n",
    "\n",
    "        element = driver.find_element(By.CLASS_NAME,'dt-action-buttons-button.pass')\n",
    "\n",
    "        actions = ActionChains(driver)\n",
    "        actions.move_to_element(element).perform()\n",
    "        \n",
    "        #Click pass button\n",
    "        wait = WebDriverWait(driver, 20)\n",
    "        element = wait.until(EC.element_to_be_clickable((By.CLASS_NAME, \"dt-action-buttons-button.pass\")))\n",
    "        element.click()\n",
    "\n"
   ]
  },
  {
   "cell_type": "code",
   "execution_count": null,
   "id": "ba1fe19e",
   "metadata": {
    "scrolled": false
   },
   "outputs": [],
   "source": [
    "getdata()"
   ]
  },
  {
   "cell_type": "markdown",
   "id": "5b44cda2",
   "metadata": {},
   "source": [
    "In the code above, Selenium will wait for a maximum of 10 seconds for an element matching the given criteria to be found. If no element is found in that time, a TimeoutException is thrown. By default, WebDriverWait calls the ExpectedCondition every 500 milliseconds until it returns success. ExpectedCondition will return true (Boolean) in case of success or not null if it fails to locate an element."
   ]
  },
  {
   "cell_type": "code",
   "execution_count": null,
   "id": "7c6f1e00",
   "metadata": {},
   "outputs": [],
   "source": [
    "profiledata"
   ]
  },
  {
   "cell_type": "code",
   "execution_count": null,
   "id": "421ee0c3",
   "metadata": {},
   "outputs": [],
   "source": [
    "#opening csv file in a+ mode \n",
    "file = open('save_file.csv', 'w+', newline ='',encoding='utf-8')\n",
    "\n",
    "# writing the data into the file\n",
    "with file:    \n",
    "    write = csv.writer(file)\n",
    "    write.writerows(profiledata)  "
   ]
  }
 ],
 "metadata": {
  "hide_input": false,
  "kernelspec": {
   "display_name": "Python 3 (ipykernel)",
   "language": "python",
   "name": "python3"
  },
  "language_info": {
   "codemirror_mode": {
    "name": "ipython",
    "version": 3
   },
   "file_extension": ".py",
   "mimetype": "text/x-python",
   "name": "python",
   "nbconvert_exporter": "python",
   "pygments_lexer": "ipython3",
   "version": "3.9.7"
  }
 },
 "nbformat": 4,
 "nbformat_minor": 5
}
