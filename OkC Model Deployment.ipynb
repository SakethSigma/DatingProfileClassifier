{
 "cells": [
  {
   "cell_type": "code",
   "execution_count": 6,
   "id": "0bea8976",
   "metadata": {},
   "outputs": [],
   "source": [
    "#importing required packages\n",
    "from selenium import webdriver\n",
    "from selenium.webdriver.common.by import By\n",
    "from selenium.webdriver.support.ui import WebDriverWait\n",
    "from selenium.webdriver.support import expected_conditions as EC\n",
    "from selenium.webdriver.common.keys import Keys\n",
    "from selenium.webdriver.common.action_chains import ActionChains\n",
    "import random\n",
    "import time\n",
    "from time import sleep\n",
    "import csv"
   ]
  },
  {
   "cell_type": "code",
   "execution_count": 14,
   "id": "e0b2518c",
   "metadata": {},
   "outputs": [],
   "source": [
    "import re\n",
    "import pandas as pd\n",
    "import numpy as np\n",
    "import matplotlib.pyplot as plt\n",
    "import seaborn as sns\n",
    "import spacy\n",
    "import re\n",
    "nlp = spacy.load('en_core_web_sm')\n",
    "import joblib"
   ]
  },
  {
   "cell_type": "code",
   "execution_count": 15,
   "id": "31755089",
   "metadata": {},
   "outputs": [],
   "source": [
    "from sklearn.feature_extraction.text import CountVectorizer\n",
    "from sklearn.feature_extraction.text import TfidfVectorizer\n",
    "from scipy import sparse\n",
    "from scipy.sparse import hstack\n",
    "from sklearn.preprocessing import StandardScaler\n",
    "from sklearn.linear_model import LogisticRegression\n",
    "from sklearn.neighbors import KNeighborsClassifier \n",
    "from sklearn.ensemble import RandomForestClassifier\n",
    "from sklearn.ensemble import VotingClassifier"
   ]
  },
  {
   "cell_type": "code",
   "execution_count": 16,
   "id": "34a7bd43",
   "metadata": {},
   "outputs": [],
   "source": [
    "tf_idf = joblib.load('tf_idf.pkl')\n",
    "scaler = joblib.load('scaler.pkl')\n",
    "clf = joblib.load('clf.pkl')\n"
   ]
  },
  {
   "cell_type": "code",
   "execution_count": 17,
   "id": "7cfdeafc",
   "metadata": {},
   "outputs": [],
   "source": [
    "def waitTime(min,max):\n",
    "\t'''\n",
    "\tWaits for random seconds between min and max.\n",
    "\t'''\n",
    "\tsecs = random.uniform(min,max)\n",
    "\tsleep(secs)\n",
    "\t"
   ]
  },
  {
   "cell_type": "code",
   "execution_count": 11,
   "id": "b18975e9",
   "metadata": {},
   "outputs": [
    {
     "name": "stderr",
     "output_type": "stream",
     "text": [
      "C:\\Users\\RAMANA~1\\AppData\\Local\\Temp/ipykernel_4476/2517153681.py:3: DeprecationWarning: executable_path has been deprecated, please pass in a Service object\n",
      "  driver = webdriver.Chrome(path)\n"
     ]
    }
   ],
   "source": [
    "#Path of chromedriver\n",
    "path = 'C:\\\\Program Files (x86)\\\\chromedriver.exe'\n",
    "driver = webdriver.Chrome(path)\n",
    "#driver = webdriver.Chrome()\n",
    "driver.get('https://www.okcupid.com/discover')\n",
    "#Login manually and verify using otp"
   ]
  },
  {
   "cell_type": "code",
   "execution_count": 18,
   "id": "6fca35f3",
   "metadata": {},
   "outputs": [],
   "source": [
    "#Defines Empty List array\n",
    "profiledata= [];"
   ]
  },
  {
   "cell_type": "code",
   "execution_count": 28,
   "id": "4178c93d",
   "metadata": {},
   "outputs": [],
   "source": [
    "def scrolldown():\n",
    "\n",
    "    # Get scroll height\n",
    "    last_height = driver.execute_script(\"return document.body.scrollHeight\")\n",
    "\n",
    "    while True:\n",
    "        # Scroll down to bottom\n",
    "        driver.execute_script(\"window.scrollTo(0, document.body.scrollHeight);\")\n",
    "\n",
    "        # Wait to load page\n",
    "        waitTime(1,2)\n",
    "\n",
    "        # Calculate new scroll height and compare with last scroll height\n",
    "        new_height = driver.execute_script(\"return document.body.scrollHeight\")\n",
    "        if new_height == last_height-250:\n",
    "            break\n",
    "        last_height = new_height+250"
   ]
  },
  {
   "cell_type": "code",
   "execution_count": 61,
   "id": "1f5180a0",
   "metadata": {},
   "outputs": [],
   "source": [
    "def swipe_profiles(num):\n",
    "    \n",
    "    \n",
    "    def clickbutton(button):\n",
    "\n",
    "        element = driver.find_element(By.CLASS_NAME,button)\n",
    "\n",
    "        actions = ActionChains(driver)\n",
    "        actions.move_to_element(element).perform()\n",
    "\n",
    "        #Click pass button\n",
    "        wait = WebDriverWait(driver, 20)\n",
    "        element = wait.until(EC.element_to_be_clickable((By.CLASS_NAME, \"dt-action-buttons-button.pass\")))\n",
    "        element.click()\n",
    "\n",
    "        \n",
    "    for i in range(num):\n",
    "        profiledata= [];\n",
    "        driver.execute_script(\"window.scrollTo(0, 500);\")\n",
    "        print(f'Accessing profile #{i+1}')\n",
    "\n",
    "        waitTime(1.5,2.5)\n",
    "        pass_button = driver.find_elements(By.CLASS_NAME,'dt-action-buttons-button')[0]\n",
    "        \n",
    "        like_button = driver.find_elements(By.CLASS_NAME,'dt-action-buttons-button')[1]\n",
    "        \n",
    "        superlike_button = driver.find_element(By.CLASS_NAME,'superlike-button-scene.superlike-button-scene--pill')\n",
    "        \n",
    "        top = driver.find_element(By.CLASS_NAME,'desktop-dt-top')\n",
    "\n",
    "        \n",
    "        \n",
    "        try:\n",
    "            bio = driver.find_element(By.CLASS_NAME,'dt-essay-text').text\n",
    "        except:\n",
    "            bio = ''\n",
    "            print('Error during Bio')\n",
    "\n",
    "        try:\n",
    "            ageLoc = driver.find_element(By.CLASS_NAME,'card-content-header__location').text\n",
    "        except:\n",
    "            ageLoc = ''\n",
    "            print('Error during AgeLoc')\n",
    "        try:\n",
    "            \n",
    "            scrolldown()\n",
    "            questions = driver.find_elements(By.CLASS_NAME,'profile-questions-filter-count')\n",
    "        except:\n",
    "            questions = ''\n",
    "            print('Error during Questions')\n",
    "        name = driver.find_element(By.CLASS_NAME,'card-content-header__text').text\n",
    "        ageLoc = driver.find_element(By.CLASS_NAME,'card-content-header__location').text\n",
    "        questions = driver.find_elements(By.CLASS_NAME,'profile-questions-filter-count')\n",
    "        #(like,disagree,findout are elements of questions) \n",
    "\n",
    "        #Appends all data to the profiledata list\n",
    "        profiledata.append([ageLoc,bio,questions[0].text,questions[1].text,questions[2].text])\n",
    "        print([ageLoc,bio,questions[0].text,questions[1].text,questions[2].text]);\n",
    "        prediction = get_pred(profiledata)\n",
    "        \n",
    "        if prediction == 1:\n",
    "            print(\"Profile is fake/low info. Swiping Left 🐱 \")\n",
    "            #Code to click pass\n",
    "            button = 'dt-action-buttons-button.pass'\n",
    "            clickbutton(button)\n",
    "        elif prediction == 0:\n",
    "            #Code to click like\n",
    "            print(\"Profile is Ok. Swiping Right 🐶\")\n",
    "            button = 'dt-action-buttons-button.like'\n",
    "            clickbutton(button)\n",
    "            \n",
    "\n",
    "\n"
   ]
  },
  {
   "cell_type": "code",
   "execution_count": 62,
   "id": "9c537a59",
   "metadata": {},
   "outputs": [],
   "source": [
    "## Function to pre-process string. Replace emojis and numbers with strings.\n",
    "def prepro_string(bio):\n",
    "    bio = str(bio)\n",
    "    bio = remove_emoji(bio.lower()) ## Parse Emojis\n",
    "    new_bio = '';\n",
    "    bio = bio.replace(\"\\n\",\"\")  #Removes newline characters\n",
    "    doc = nlp(bio)\n",
    "    \n",
    "    for tok in doc:             ##Convert Digits into Digit(Num_digits) Format.\n",
    "\n",
    "        if tok.is_digit:\n",
    "            digit_len = len(tok)\n",
    "            new_bio += str(digit_len) + '_Digit_' + 'Num'  + ' '\n",
    "        else:\n",
    "            new_bio += tok.text + ' '\n",
    "\n",
    "    return new_bio"
   ]
  },
  {
   "cell_type": "code",
   "execution_count": 63,
   "id": "2bcd2183",
   "metadata": {},
   "outputs": [],
   "source": [
    "## Function to remove emojis and replace them with the string-'emoji' & remove punctuation\n",
    "def remove_emoji(string):\n",
    "    emoji_pattern = re.compile(\"[\"\n",
    "                           u\"\\U0001F600-\\U0001F64F\" # emoticons\n",
    "                           u\"\\U0001F300-\\U0001F5FF\" # symbols & pictographs\n",
    "                           u\"\\U0001F680-\\U0001F6FF\" # transport & map symbols\n",
    "                           u\"\\U0001F1E0-\\U0001F1FF\" # flags (iOS)\n",
    "                           u\"\\U00002702-\\U000027B0\"\n",
    "                           u\"\\U000024C2-\\U0001F251\"\n",
    "                           \"]\", flags=re.UNICODE)\n",
    "    \n",
    "    string = re.sub(r'[^\\w\\s]', '', string)\n",
    "\n",
    "\n",
    "    return emoji_pattern.sub(' emoji ', string)"
   ]
  },
  {
   "cell_type": "code",
   "execution_count": 64,
   "id": "498473f1",
   "metadata": {},
   "outputs": [],
   "source": [
    "##Function to count length of bio\n",
    "def get_char_counts(string):\n",
    "    #initialized value\n",
    "    total_digits = 0\n",
    "    total_letters = 0\n",
    "\n",
    "    # iterate through all characters\n",
    "    for s in string:\n",
    "\n",
    "        # if character is digit (return True)\n",
    "        if s.isnumeric():\n",
    "            total_digits += 1\n",
    "\n",
    "        # if character is letter (return False)\n",
    "        else:\n",
    "            total_letters += 1\n",
    "    return total_digits, total_letters"
   ]
  },
  {
   "cell_type": "code",
   "execution_count": 65,
   "id": "b3766a87",
   "metadata": {},
   "outputs": [],
   "source": [
    "def get_pred(profiledata):\n",
    "    for i in range(2,5):\n",
    "        profiledata[0][i] = int(profiledata[0][i])\n",
    "    df = pd.DataFrame(profiledata,columns =['Age . Location','Bio','Agree','Disagree','Find Out'])\n",
    "    \n",
    "    ## Getting number of characters and number of digits in the Bio.\n",
    "    applied_df = df.apply(lambda row: get_char_counts(row.Bio), axis='columns', result_type='expand')\n",
    "    df = pd.concat([df, applied_df], axis='columns')\n",
    "    df = df.rename(columns={0:'Num_Digits',1:'Num_Chars'})\n",
    "    \n",
    "    #Applying Preprocessing Function to Bio\n",
    "    df['Bio'] = df['Bio'].apply(prepro_string)\n",
    "    \n",
    "    df['Ques_Ans'] = df['Agree'] + df['Disagree'] + df['Find Out']\n",
    "    \n",
    "    X = df.drop(['Age . Location','Agree','Disagree','Find Out','Num_Digits'],axis=1)\n",
    "    scaled_X_test_nums = scaler.transform(X[['Ques_Ans','Num_Chars']])\n",
    "    X_test_gram = tf_idf.transform(X['Bio'])\n",
    "    #Test Data\n",
    "    test_arr = np.array(scaled_X_test_nums)\n",
    "    M_test = sparse.coo_matrix(test_arr)\n",
    "    sparse_X_test = sparse.hstack((M_test, X_test_gram))\n",
    "    \n",
    "    y_pred = clf.predict(sparse_X_test)\n",
    "    \n",
    "    return y_pred[-1]"
   ]
  },
  {
   "cell_type": "markdown",
   "id": "f73171ec",
   "metadata": {},
   "source": [
    "## Model Deployment"
   ]
  },
  {
   "cell_type": "code",
   "execution_count": null,
   "id": "e1b1777a",
   "metadata": {},
   "outputs": [],
   "source": []
  },
  {
   "cell_type": "code",
   "execution_count": 68,
   "id": "05aae462",
   "metadata": {},
   "outputs": [
    {
     "name": "stdout",
     "output_type": "stream",
     "text": [
      "Accessing profile #1\n",
      "['23 • Husain Sawāli Dargāh', 'love meeting new friends', '9', '6', '0']\n",
      "Profile is Ok. Swiping Right 🐶\n",
      "Accessing profile #2\n",
      "['24 • Delhi', 'Looking for something serious\\n\\nNo matter how do u look , your nature plays a pivotal role in my life..\\n\\nLooking for someone serious, intellectual, decent ,and must have good dressing sense\\n\\nI am very much kiddish so beware of me\\nI can tease you anytime as I love to tease people especially the boring people.', '14', '14', '3']\n",
      "Profile is Ok. Swiping Right 🐶\n",
      "Accessing profile #3\n",
      "['27 • Kūkatpalli', 'hi', '9', '6', '0']\n",
      "Profile is fake/low info. Swiping Left 🐱 \n",
      "Accessing profile #4\n",
      "['25 • Bengaluru', 'Most people that know me would say\\nI’m most likely to find reasons to order takeout, least likely to cook', '39', '8', '135']\n",
      "Profile is Ok. Swiping Right 🐶\n",
      "Accessing profile #5\n",
      "['21 • Hyderābād', 'Heyyy !\\nI am 21 year old business student ! Looking for good company & friendship !', '6', '9', '0']\n",
      "Profile is Ok. Swiping Right 🐶\n"
     ]
    }
   ],
   "source": [
    "swipe_profiles(5)"
   ]
  },
  {
   "cell_type": "code",
   "execution_count": null,
   "id": "6ffe441d",
   "metadata": {},
   "outputs": [],
   "source": []
  },
  {
   "cell_type": "code",
   "execution_count": null,
   "id": "266d622d",
   "metadata": {},
   "outputs": [],
   "source": []
  },
  {
   "cell_type": "code",
   "execution_count": null,
   "id": "e47032e2",
   "metadata": {},
   "outputs": [],
   "source": []
  }
 ],
 "metadata": {
  "hide_input": false,
  "kernelspec": {
   "display_name": "Python 3 (ipykernel)",
   "language": "python",
   "name": "python3"
  },
  "language_info": {
   "codemirror_mode": {
    "name": "ipython",
    "version": 3
   },
   "file_extension": ".py",
   "mimetype": "text/x-python",
   "name": "python",
   "nbconvert_exporter": "python",
   "pygments_lexer": "ipython3",
   "version": "3.9.7"
  }
 },
 "nbformat": 4,
 "nbformat_minor": 5
}
